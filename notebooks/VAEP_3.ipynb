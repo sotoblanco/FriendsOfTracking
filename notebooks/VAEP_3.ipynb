{
 "cells": [
  {
   "cell_type": "code",
   "execution_count": 79,
   "metadata": {},
   "outputs": [],
   "source": [
    "import warnings\n",
    "from socceraction.data.wyscout import WyscoutLoader\n",
    "from socceraction.spadl.wyscout import convert_to_actions\n",
    "import socceraction.spadl as spadl\n",
    "import socceraction.atomic.spadl as atomicspadl\n",
    "import socceraction.vaep.features as features\n",
    "import socceraction.vaep.labels as labels\n",
    "import pandas as pd\n",
    "import os\n",
    "from sklearn.model_selection import train_test_split\n",
    "from tqdm import tqdm\n",
    "# import XGBclassifier\n",
    "import numpy as np\n",
    "from xgboost import XGBClassifier\n",
    "#from scikitplot.metrics import plot_calibration_curve\n",
    "import matplotlib.pyplot as plt\n",
    "from sklearn.model_selection import GridSearchCV\n",
    "from scikitplot.metrics import plot_calibration_curve\n"
   ]
  },
  {
   "cell_type": "code",
   "execution_count": 80,
   "metadata": {},
   "outputs": [],
   "source": [
    "warnings.filterwarnings('ignore', category=pd.io.pytables.PerformanceWarning)"
   ]
  },
  {
   "cell_type": "code",
   "execution_count": 3,
   "metadata": {},
   "outputs": [],
   "source": [
    "def load_environment_vars():\n",
    "    # Get the current working directory\n",
    "    cwd = os.getcwd()\n",
    "\n",
    "    # Append the .env file name\n",
    "    env_path = os.path.join(cwd, '../.env')\n",
    "\n",
    "    # Open the .env file\n",
    "    with open(env_path) as f:\n",
    "        # Read the lines\n",
    "        lines = f.readlines()\n",
    "\n",
    "    # Parse the key-value pairs\n",
    "    for line in lines:\n",
    "        # Ignore comments and empty lines\n",
    "        if line.startswith('#') or not line.strip():\n",
    "            continue\n",
    "        # Split the line into key and value\n",
    "        key, value = line.strip().split('=', 1)\n",
    "        # Set the environment variable\n",
    "        os.environ[key] = value\n",
    "\n",
    "    return os.environ['WYSCOUT_API_USER'], os.environ['WYSCOUT_API_PASSWORD']\n",
    "\n",
    "#def create_wyscout_client(username, password):\n",
    "#    return wyscoutapi.WyscoutAPI(username=username, password=password)"
   ]
  },
  {
   "cell_type": "code",
   "execution_count": 5,
   "metadata": {},
   "outputs": [],
   "source": [
    "# set authentication credentials as environment variables\n",
    "username, password = load_environment_vars()\n",
    "\n",
    "# or provide authentication credentials as a dictionary\n",
    "api = WyscoutLoader(getter=\"remote\", creds={\"user\":username, \"passwd\": password})"
   ]
  },
  {
   "cell_type": "code",
   "execution_count": 6,
   "metadata": {},
   "outputs": [
    {
     "name": "stderr",
     "output_type": "stream",
     "text": [
      "/home/pastor/anaconda3/envs/fot/lib/python3.10/site-packages/socceraction/data/wyscout/loader.py:560: UserWarning: Resource not found: matches/5465087/events?fetch=teams,players,match,coaches,referees,formations,substitutions\n",
      "  warnings.warn(f\"Resource not found: {gamedetails_url}\")\n",
      "/home/pastor/anaconda3/envs/fot/lib/python3.10/site-packages/socceraction/data/wyscout/loader.py:560: UserWarning: Resource not found: matches/5465072/events?fetch=teams,players,match,coaches,referees,formations,substitutions\n",
      "  warnings.warn(f\"Resource not found: {gamedetails_url}\")\n"
     ]
    }
   ],
   "source": [
    "last_premier_games = api.games(364,188989)"
   ]
  },
  {
   "cell_type": "code",
   "execution_count": 51,
   "metadata": {},
   "outputs": [
    {
     "data": {
      "text/html": [
       "<div>\n",
       "<style scoped>\n",
       "    .dataframe tbody tr th:only-of-type {\n",
       "        vertical-align: middle;\n",
       "    }\n",
       "\n",
       "    .dataframe tbody tr th {\n",
       "        vertical-align: top;\n",
       "    }\n",
       "\n",
       "    .dataframe thead th {\n",
       "        text-align: right;\n",
       "    }\n",
       "</style>\n",
       "<table border=\"1\" class=\"dataframe\">\n",
       "  <thead>\n",
       "    <tr style=\"text-align: right;\">\n",
       "      <th></th>\n",
       "      <th>game_id</th>\n",
       "      <th>competition_id</th>\n",
       "      <th>season_id</th>\n",
       "      <th>game_date</th>\n",
       "      <th>game_day</th>\n",
       "      <th>home_team_id</th>\n",
       "      <th>away_team_id</th>\n",
       "    </tr>\n",
       "  </thead>\n",
       "  <tbody>\n",
       "    <tr>\n",
       "      <th>0</th>\n",
       "      <td>5465116</td>\n",
       "      <td>364</td>\n",
       "      <td>188989</td>\n",
       "      <td>2024-01-12 19:45:00</td>\n",
       "      <td>21</td>\n",
       "      <td>1646</td>\n",
       "      <td>1660</td>\n",
       "    </tr>\n",
       "    <tr>\n",
       "      <th>1</th>\n",
       "      <td>5465110</td>\n",
       "      <td>364</td>\n",
       "      <td>188989</td>\n",
       "      <td>2024-01-02 19:30:00</td>\n",
       "      <td>20</td>\n",
       "      <td>1633</td>\n",
       "      <td>1651</td>\n",
       "    </tr>\n",
       "    <tr>\n",
       "      <th>2</th>\n",
       "      <td>5465105</td>\n",
       "      <td>364</td>\n",
       "      <td>188989</td>\n",
       "      <td>2024-01-01 20:00:00</td>\n",
       "      <td>20</td>\n",
       "      <td>1612</td>\n",
       "      <td>1613</td>\n",
       "    </tr>\n",
       "    <tr>\n",
       "      <th>3</th>\n",
       "      <td>5465104</td>\n",
       "      <td>364</td>\n",
       "      <td>188989</td>\n",
       "      <td>2023-12-31 14:00:00</td>\n",
       "      <td>20</td>\n",
       "      <td>1616</td>\n",
       "      <td>1609</td>\n",
       "    </tr>\n",
       "    <tr>\n",
       "      <th>4</th>\n",
       "      <td>5465109</td>\n",
       "      <td>364</td>\n",
       "      <td>188989</td>\n",
       "      <td>2023-12-31 14:00:00</td>\n",
       "      <td>20</td>\n",
       "      <td>1624</td>\n",
       "      <td>1659</td>\n",
       "    </tr>\n",
       "    <tr>\n",
       "      <th>...</th>\n",
       "      <td>...</td>\n",
       "      <td>...</td>\n",
       "      <td>...</td>\n",
       "      <td>...</td>\n",
       "      <td>...</td>\n",
       "      <td>...</td>\n",
       "      <td>...</td>\n",
       "    </tr>\n",
       "    <tr>\n",
       "      <th>194</th>\n",
       "      <td>5464915</td>\n",
       "      <td>364</td>\n",
       "      <td>188989</td>\n",
       "      <td>2023-08-12 14:00:00</td>\n",
       "      <td>1</td>\n",
       "      <td>1651</td>\n",
       "      <td>1660</td>\n",
       "    </tr>\n",
       "    <tr>\n",
       "      <th>195</th>\n",
       "      <td>5464916</td>\n",
       "      <td>364</td>\n",
       "      <td>188989</td>\n",
       "      <td>2023-08-12 14:00:00</td>\n",
       "      <td>1</td>\n",
       "      <td>1623</td>\n",
       "      <td>1616</td>\n",
       "    </tr>\n",
       "    <tr>\n",
       "      <th>196</th>\n",
       "      <td>5464917</td>\n",
       "      <td>364</td>\n",
       "      <td>188989</td>\n",
       "      <td>2023-08-12 14:00:00</td>\n",
       "      <td>1</td>\n",
       "      <td>1636</td>\n",
       "      <td>1628</td>\n",
       "    </tr>\n",
       "    <tr>\n",
       "      <th>197</th>\n",
       "      <td>5464913</td>\n",
       "      <td>364</td>\n",
       "      <td>188989</td>\n",
       "      <td>2023-08-12 12:00:00</td>\n",
       "      <td>1</td>\n",
       "      <td>1609</td>\n",
       "      <td>1642</td>\n",
       "    </tr>\n",
       "    <tr>\n",
       "      <th>198</th>\n",
       "      <td>5464912</td>\n",
       "      <td>364</td>\n",
       "      <td>188989</td>\n",
       "      <td>2023-08-11 19:00:00</td>\n",
       "      <td>1</td>\n",
       "      <td>1646</td>\n",
       "      <td>1625</td>\n",
       "    </tr>\n",
       "  </tbody>\n",
       "</table>\n",
       "<p>199 rows × 7 columns</p>\n",
       "</div>"
      ],
      "text/plain": [
       "     game_id  competition_id  season_id           game_date  game_day  \\\n",
       "0    5465116             364     188989 2024-01-12 19:45:00        21   \n",
       "1    5465110             364     188989 2024-01-02 19:30:00        20   \n",
       "2    5465105             364     188989 2024-01-01 20:00:00        20   \n",
       "3    5465104             364     188989 2023-12-31 14:00:00        20   \n",
       "4    5465109             364     188989 2023-12-31 14:00:00        20   \n",
       "..       ...             ...        ...                 ...       ...   \n",
       "194  5464915             364     188989 2023-08-12 14:00:00         1   \n",
       "195  5464916             364     188989 2023-08-12 14:00:00         1   \n",
       "196  5464917             364     188989 2023-08-12 14:00:00         1   \n",
       "197  5464913             364     188989 2023-08-12 12:00:00         1   \n",
       "198  5464912             364     188989 2023-08-11 19:00:00         1   \n",
       "\n",
       "     home_team_id  away_team_id  \n",
       "0            1646          1660  \n",
       "1            1633          1651  \n",
       "2            1612          1613  \n",
       "3            1616          1609  \n",
       "4            1624          1659  \n",
       "..            ...           ...  \n",
       "194          1651          1660  \n",
       "195          1623          1616  \n",
       "196          1636          1628  \n",
       "197          1609          1642  \n",
       "198          1646          1625  \n",
       "\n",
       "[199 rows x 7 columns]"
      ]
     },
     "execution_count": 51,
     "metadata": {},
     "output_type": "execute_result"
    }
   ],
   "source": [
    "last_premier_games"
   ]
  },
  {
   "cell_type": "code",
   "execution_count": 52,
   "metadata": {},
   "outputs": [],
   "source": [
    "last_games = last_premier_games\t"
   ]
  },
  {
   "cell_type": "code",
   "execution_count": 53,
   "metadata": {},
   "outputs": [
    {
     "data": {
      "text/html": [
       "<div>\n",
       "<style scoped>\n",
       "    .dataframe tbody tr th:only-of-type {\n",
       "        vertical-align: middle;\n",
       "    }\n",
       "\n",
       "    .dataframe tbody tr th {\n",
       "        vertical-align: top;\n",
       "    }\n",
       "\n",
       "    .dataframe thead th {\n",
       "        text-align: right;\n",
       "    }\n",
       "</style>\n",
       "<table border=\"1\" class=\"dataframe\">\n",
       "  <thead>\n",
       "    <tr style=\"text-align: right;\">\n",
       "      <th></th>\n",
       "      <th>game_id</th>\n",
       "      <th>competition_id</th>\n",
       "      <th>season_id</th>\n",
       "      <th>game_date</th>\n",
       "      <th>game_day</th>\n",
       "      <th>home_team_id</th>\n",
       "      <th>away_team_id</th>\n",
       "    </tr>\n",
       "  </thead>\n",
       "  <tbody>\n",
       "    <tr>\n",
       "      <th>0</th>\n",
       "      <td>5465116</td>\n",
       "      <td>364</td>\n",
       "      <td>188989</td>\n",
       "      <td>2024-01-12 19:45:00</td>\n",
       "      <td>21</td>\n",
       "      <td>1646</td>\n",
       "      <td>1660</td>\n",
       "    </tr>\n",
       "    <tr>\n",
       "      <th>1</th>\n",
       "      <td>5465110</td>\n",
       "      <td>364</td>\n",
       "      <td>188989</td>\n",
       "      <td>2024-01-02 19:30:00</td>\n",
       "      <td>20</td>\n",
       "      <td>1633</td>\n",
       "      <td>1651</td>\n",
       "    </tr>\n",
       "    <tr>\n",
       "      <th>2</th>\n",
       "      <td>5465105</td>\n",
       "      <td>364</td>\n",
       "      <td>188989</td>\n",
       "      <td>2024-01-01 20:00:00</td>\n",
       "      <td>20</td>\n",
       "      <td>1612</td>\n",
       "      <td>1613</td>\n",
       "    </tr>\n",
       "    <tr>\n",
       "      <th>3</th>\n",
       "      <td>5465104</td>\n",
       "      <td>364</td>\n",
       "      <td>188989</td>\n",
       "      <td>2023-12-31 14:00:00</td>\n",
       "      <td>20</td>\n",
       "      <td>1616</td>\n",
       "      <td>1609</td>\n",
       "    </tr>\n",
       "    <tr>\n",
       "      <th>4</th>\n",
       "      <td>5465109</td>\n",
       "      <td>364</td>\n",
       "      <td>188989</td>\n",
       "      <td>2023-12-31 14:00:00</td>\n",
       "      <td>20</td>\n",
       "      <td>1624</td>\n",
       "      <td>1659</td>\n",
       "    </tr>\n",
       "    <tr>\n",
       "      <th>...</th>\n",
       "      <td>...</td>\n",
       "      <td>...</td>\n",
       "      <td>...</td>\n",
       "      <td>...</td>\n",
       "      <td>...</td>\n",
       "      <td>...</td>\n",
       "      <td>...</td>\n",
       "    </tr>\n",
       "    <tr>\n",
       "      <th>194</th>\n",
       "      <td>5464915</td>\n",
       "      <td>364</td>\n",
       "      <td>188989</td>\n",
       "      <td>2023-08-12 14:00:00</td>\n",
       "      <td>1</td>\n",
       "      <td>1651</td>\n",
       "      <td>1660</td>\n",
       "    </tr>\n",
       "    <tr>\n",
       "      <th>195</th>\n",
       "      <td>5464916</td>\n",
       "      <td>364</td>\n",
       "      <td>188989</td>\n",
       "      <td>2023-08-12 14:00:00</td>\n",
       "      <td>1</td>\n",
       "      <td>1623</td>\n",
       "      <td>1616</td>\n",
       "    </tr>\n",
       "    <tr>\n",
       "      <th>196</th>\n",
       "      <td>5464917</td>\n",
       "      <td>364</td>\n",
       "      <td>188989</td>\n",
       "      <td>2023-08-12 14:00:00</td>\n",
       "      <td>1</td>\n",
       "      <td>1636</td>\n",
       "      <td>1628</td>\n",
       "    </tr>\n",
       "    <tr>\n",
       "      <th>197</th>\n",
       "      <td>5464913</td>\n",
       "      <td>364</td>\n",
       "      <td>188989</td>\n",
       "      <td>2023-08-12 12:00:00</td>\n",
       "      <td>1</td>\n",
       "      <td>1609</td>\n",
       "      <td>1642</td>\n",
       "    </tr>\n",
       "    <tr>\n",
       "      <th>198</th>\n",
       "      <td>5464912</td>\n",
       "      <td>364</td>\n",
       "      <td>188989</td>\n",
       "      <td>2023-08-11 19:00:00</td>\n",
       "      <td>1</td>\n",
       "      <td>1646</td>\n",
       "      <td>1625</td>\n",
       "    </tr>\n",
       "  </tbody>\n",
       "</table>\n",
       "<p>199 rows × 7 columns</p>\n",
       "</div>"
      ],
      "text/plain": [
       "     game_id  competition_id  season_id           game_date  game_day  \\\n",
       "0    5465116             364     188989 2024-01-12 19:45:00        21   \n",
       "1    5465110             364     188989 2024-01-02 19:30:00        20   \n",
       "2    5465105             364     188989 2024-01-01 20:00:00        20   \n",
       "3    5465104             364     188989 2023-12-31 14:00:00        20   \n",
       "4    5465109             364     188989 2023-12-31 14:00:00        20   \n",
       "..       ...             ...        ...                 ...       ...   \n",
       "194  5464915             364     188989 2023-08-12 14:00:00         1   \n",
       "195  5464916             364     188989 2023-08-12 14:00:00         1   \n",
       "196  5464917             364     188989 2023-08-12 14:00:00         1   \n",
       "197  5464913             364     188989 2023-08-12 12:00:00         1   \n",
       "198  5464912             364     188989 2023-08-11 19:00:00         1   \n",
       "\n",
       "     home_team_id  away_team_id  \n",
       "0            1646          1660  \n",
       "1            1633          1651  \n",
       "2            1612          1613  \n",
       "3            1616          1609  \n",
       "4            1624          1659  \n",
       "..            ...           ...  \n",
       "194          1651          1660  \n",
       "195          1623          1616  \n",
       "196          1636          1628  \n",
       "197          1609          1642  \n",
       "198          1646          1625  \n",
       "\n",
       "[199 rows x 7 columns]"
      ]
     },
     "execution_count": 53,
     "metadata": {},
     "output_type": "execute_result"
    }
   ],
   "source": [
    "last_games"
   ]
  },
  {
   "cell_type": "markdown",
   "metadata": {},
   "source": [
    "If we evaluate new games we need to update our features data"
   ]
  },
  {
   "cell_type": "code",
   "execution_count": null,
   "metadata": {},
   "outputs": [],
   "source": [
    "functions_features = [\n",
    "    features.actiontype_onehot,\n",
    "    features.bodypart_onehot,\n",
    "    features.result_onehot,\n",
    "    features.goalscore,\n",
    "    features.startlocation,\n",
    "    features.endlocation,\n",
    "    features.movement,\n",
    "    features.space_delta,\n",
    "    features.startpolar,\n",
    "    features.endpolar,\n",
    "    features.team,\n",
    "    features.time_delta\n",
    "]\n",
    "\n",
    "functions_labels = [\n",
    "    labels.scores,\n",
    "    labels.concedes\n",
    "]\n",
    "\n",
    "for game_id, home_team_id in zip(last_games['game_id'].values, last_games['home_team_id'].values):\n",
    "    print(f'Processing game {game_id}')\n",
    "    last_game_event = api.events(game_id)\n",
    "    spadl_df = convert_to_actions(last_game_event, home_team_id)\n",
    "    team_name = api.teams(game_id=game_id)\n",
    "    team_name.to_hdf('teams.h5', key=f'game_{game_id}')\n",
    "\n",
    "    player_name = api.players(game_id=game_id)\n",
    "    player_name.to_hdf('players.h5', key=f'game_{game_id}')\n",
    "\n",
    "    df_actions = (spadl.add_names(spadl_df))  # add actiontype and result names\n",
    "                  \n",
    "    gamestates = features.gamestates(df_actions,3)\n",
    "    gamestates = features.play_left_to_right(gamestates, home_team_id)\n",
    "\n",
    "    #df_actions = (\n",
    "    #spadl\n",
    "    #.add_names(spadl_df)  # add actiontype and result names\n",
    "    #.merge(team_name)  # add team names\n",
    "    #.merge(player_name)  # add player names\n",
    "    #)\n",
    "    df_actions.to_hdf('actions.h5', key=f'game_{game_id}')\n",
    "\n",
    "    #df_actions_atomic = atomicspadl.convert_to_atomic(df_actions)\n",
    "    #df_actions_atomic = (\n",
    "    #    atomicspadl\n",
    "    #    .add_names(df_actions)  # add actiontype and result names\n",
    "    #    .merge(team_name)  # add team names\n",
    "    #    .merge(player_name)  # add player names\n",
    "    #    )\n",
    "    #df_actions_atomic.to_hdf('atomic_actions.h5', key=f'game_{game_id}')\n",
    "    \n",
    "    #gamestates = features.gamestates(df_actions,3)\n",
    "    #gamestates = features.play_left_to_right(gamestates, home_team_id)\n",
    "\n",
    "    df_features = pd.concat([fn(gamestates) for fn in functions_features], axis=1)\n",
    "    df_features.to_hdf('features.h5', key=f'game_{game_id}')\n",
    "    # 3. compute labels\n",
    "    df_labels = pd.concat([fn(df_actions) for fn in functions_labels], axis=1)\n",
    "    df_labels.to_hdf('labels.h5', key=f'game_{game_id}')"
   ]
  },
  {
   "cell_type": "markdown",
   "metadata": {},
   "source": [
    "# Load label and features"
   ]
  },
  {
   "cell_type": "code",
   "execution_count": 55,
   "metadata": {},
   "outputs": [],
   "source": [
    "dfs_features = []\n",
    "dfs_labels = []\n",
    "for game_id, home_team_id in zip(last_games['game_id'].values, last_games['home_team_id'].values):\n",
    "    df_features = pd.read_hdf('features.h5', key=f'game_{game_id}')\n",
    "    df_features['game_id'] = game_id\n",
    "    dfs_features.append(df_features)\n",
    "\n",
    "    df_labels = pd.read_hdf('labels.h5', key=f'game_{game_id}')\n",
    "    df_labels['game_id'] = game_id\n",
    "    dfs_labels.append(df_labels)\n",
    "    \n",
    "df_labels = pd.concat(dfs_labels).reset_index(drop=True)\n",
    "df_features = pd.concat(dfs_features).reset_index(drop=True)"
   ]
  },
  {
   "cell_type": "code",
   "execution_count": 56,
   "metadata": {},
   "outputs": [
    {
     "data": {
      "text/html": [
       "<div>\n",
       "<style scoped>\n",
       "    .dataframe tbody tr th:only-of-type {\n",
       "        vertical-align: middle;\n",
       "    }\n",
       "\n",
       "    .dataframe tbody tr th {\n",
       "        vertical-align: top;\n",
       "    }\n",
       "\n",
       "    .dataframe thead th {\n",
       "        text-align: right;\n",
       "    }\n",
       "</style>\n",
       "<table border=\"1\" class=\"dataframe\">\n",
       "  <thead>\n",
       "    <tr style=\"text-align: right;\">\n",
       "      <th></th>\n",
       "      <th>scores</th>\n",
       "      <th>concedes</th>\n",
       "      <th>game_id</th>\n",
       "    </tr>\n",
       "  </thead>\n",
       "  <tbody>\n",
       "    <tr>\n",
       "      <th>264696</th>\n",
       "      <td>False</td>\n",
       "      <td>False</td>\n",
       "      <td>5464912</td>\n",
       "    </tr>\n",
       "    <tr>\n",
       "      <th>264697</th>\n",
       "      <td>False</td>\n",
       "      <td>False</td>\n",
       "      <td>5464912</td>\n",
       "    </tr>\n",
       "    <tr>\n",
       "      <th>264698</th>\n",
       "      <td>False</td>\n",
       "      <td>False</td>\n",
       "      <td>5464912</td>\n",
       "    </tr>\n",
       "    <tr>\n",
       "      <th>264699</th>\n",
       "      <td>False</td>\n",
       "      <td>False</td>\n",
       "      <td>5464912</td>\n",
       "    </tr>\n",
       "    <tr>\n",
       "      <th>264700</th>\n",
       "      <td>False</td>\n",
       "      <td>False</td>\n",
       "      <td>5464912</td>\n",
       "    </tr>\n",
       "  </tbody>\n",
       "</table>\n",
       "</div>"
      ],
      "text/plain": [
       "        scores  concedes  game_id\n",
       "264696   False     False  5464912\n",
       "264697   False     False  5464912\n",
       "264698   False     False  5464912\n",
       "264699   False     False  5464912\n",
       "264700   False     False  5464912"
      ]
     },
     "execution_count": 56,
     "metadata": {},
     "output_type": "execute_result"
    }
   ],
   "source": [
    "df_labels.tail()"
   ]
  },
  {
   "cell_type": "code",
   "execution_count": 57,
   "metadata": {},
   "outputs": [
    {
     "data": {
      "text/html": [
       "<div>\n",
       "<style scoped>\n",
       "    .dataframe tbody tr th:only-of-type {\n",
       "        vertical-align: middle;\n",
       "    }\n",
       "\n",
       "    .dataframe tbody tr th {\n",
       "        vertical-align: top;\n",
       "    }\n",
       "\n",
       "    .dataframe thead th {\n",
       "        text-align: right;\n",
       "    }\n",
       "</style>\n",
       "<table border=\"1\" class=\"dataframe\">\n",
       "  <thead>\n",
       "    <tr style=\"text-align: right;\">\n",
       "      <th></th>\n",
       "      <th>actiontype_pass_a0</th>\n",
       "      <th>actiontype_cross_a0</th>\n",
       "      <th>actiontype_throw_in_a0</th>\n",
       "      <th>actiontype_freekick_crossed_a0</th>\n",
       "      <th>actiontype_freekick_short_a0</th>\n",
       "      <th>actiontype_corner_crossed_a0</th>\n",
       "      <th>actiontype_corner_short_a0</th>\n",
       "      <th>actiontype_take_on_a0</th>\n",
       "      <th>actiontype_foul_a0</th>\n",
       "      <th>actiontype_tackle_a0</th>\n",
       "      <th>...</th>\n",
       "      <th>end_angle_to_goal_a0</th>\n",
       "      <th>end_dist_to_goal_a1</th>\n",
       "      <th>end_angle_to_goal_a1</th>\n",
       "      <th>end_dist_to_goal_a2</th>\n",
       "      <th>end_angle_to_goal_a2</th>\n",
       "      <th>team_1</th>\n",
       "      <th>team_2</th>\n",
       "      <th>time_delta_1</th>\n",
       "      <th>time_delta_2</th>\n",
       "      <th>game_id</th>\n",
       "    </tr>\n",
       "  </thead>\n",
       "  <tbody>\n",
       "    <tr>\n",
       "      <th>264691</th>\n",
       "      <td>True</td>\n",
       "      <td>False</td>\n",
       "      <td>False</td>\n",
       "      <td>False</td>\n",
       "      <td>False</td>\n",
       "      <td>False</td>\n",
       "      <td>False</td>\n",
       "      <td>False</td>\n",
       "      <td>False</td>\n",
       "      <td>False</td>\n",
       "      <td>...</td>\n",
       "      <td>0.041314</td>\n",
       "      <td>90.091733</td>\n",
       "      <td>0.298793</td>\n",
       "      <td>77.269425</td>\n",
       "      <td>0.426424</td>\n",
       "      <td>True</td>\n",
       "      <td>False</td>\n",
       "      <td>2.0</td>\n",
       "      <td>8.0</td>\n",
       "      <td>5464912</td>\n",
       "    </tr>\n",
       "    <tr>\n",
       "      <th>264692</th>\n",
       "      <td>True</td>\n",
       "      <td>False</td>\n",
       "      <td>False</td>\n",
       "      <td>False</td>\n",
       "      <td>False</td>\n",
       "      <td>False</td>\n",
       "      <td>False</td>\n",
       "      <td>False</td>\n",
       "      <td>False</td>\n",
       "      <td>False</td>\n",
       "      <td>...</td>\n",
       "      <td>0.100587</td>\n",
       "      <td>98.784292</td>\n",
       "      <td>0.041314</td>\n",
       "      <td>90.091733</td>\n",
       "      <td>0.298793</td>\n",
       "      <td>True</td>\n",
       "      <td>True</td>\n",
       "      <td>5.0</td>\n",
       "      <td>7.0</td>\n",
       "      <td>5464912</td>\n",
       "    </tr>\n",
       "    <tr>\n",
       "      <th>264693</th>\n",
       "      <td>True</td>\n",
       "      <td>False</td>\n",
       "      <td>False</td>\n",
       "      <td>False</td>\n",
       "      <td>False</td>\n",
       "      <td>False</td>\n",
       "      <td>False</td>\n",
       "      <td>False</td>\n",
       "      <td>False</td>\n",
       "      <td>False</td>\n",
       "      <td>...</td>\n",
       "      <td>0.000000</td>\n",
       "      <td>81.260741</td>\n",
       "      <td>0.100587</td>\n",
       "      <td>98.784292</td>\n",
       "      <td>0.041314</td>\n",
       "      <td>True</td>\n",
       "      <td>True</td>\n",
       "      <td>45.0</td>\n",
       "      <td>50.0</td>\n",
       "      <td>5464912</td>\n",
       "    </tr>\n",
       "    <tr>\n",
       "      <th>264694</th>\n",
       "      <td>True</td>\n",
       "      <td>False</td>\n",
       "      <td>False</td>\n",
       "      <td>False</td>\n",
       "      <td>False</td>\n",
       "      <td>False</td>\n",
       "      <td>False</td>\n",
       "      <td>False</td>\n",
       "      <td>False</td>\n",
       "      <td>False</td>\n",
       "      <td>...</td>\n",
       "      <td>0.215642</td>\n",
       "      <td>77.700000</td>\n",
       "      <td>0.000000</td>\n",
       "      <td>81.260741</td>\n",
       "      <td>0.100587</td>\n",
       "      <td>True</td>\n",
       "      <td>True</td>\n",
       "      <td>5.0</td>\n",
       "      <td>50.0</td>\n",
       "      <td>5464912</td>\n",
       "    </tr>\n",
       "    <tr>\n",
       "      <th>264695</th>\n",
       "      <td>True</td>\n",
       "      <td>False</td>\n",
       "      <td>False</td>\n",
       "      <td>False</td>\n",
       "      <td>False</td>\n",
       "      <td>False</td>\n",
       "      <td>False</td>\n",
       "      <td>False</td>\n",
       "      <td>False</td>\n",
       "      <td>False</td>\n",
       "      <td>...</td>\n",
       "      <td>0.299569</td>\n",
       "      <td>73.092883</td>\n",
       "      <td>0.215642</td>\n",
       "      <td>77.700000</td>\n",
       "      <td>0.000000</td>\n",
       "      <td>True</td>\n",
       "      <td>True</td>\n",
       "      <td>3.0</td>\n",
       "      <td>8.0</td>\n",
       "      <td>5464912</td>\n",
       "    </tr>\n",
       "    <tr>\n",
       "      <th>264696</th>\n",
       "      <td>True</td>\n",
       "      <td>False</td>\n",
       "      <td>False</td>\n",
       "      <td>False</td>\n",
       "      <td>False</td>\n",
       "      <td>False</td>\n",
       "      <td>False</td>\n",
       "      <td>False</td>\n",
       "      <td>False</td>\n",
       "      <td>False</td>\n",
       "      <td>...</td>\n",
       "      <td>0.130652</td>\n",
       "      <td>71.431288</td>\n",
       "      <td>0.299569</td>\n",
       "      <td>73.092883</td>\n",
       "      <td>0.215642</td>\n",
       "      <td>True</td>\n",
       "      <td>True</td>\n",
       "      <td>6.0</td>\n",
       "      <td>9.0</td>\n",
       "      <td>5464912</td>\n",
       "    </tr>\n",
       "    <tr>\n",
       "      <th>264697</th>\n",
       "      <td>True</td>\n",
       "      <td>False</td>\n",
       "      <td>False</td>\n",
       "      <td>False</td>\n",
       "      <td>False</td>\n",
       "      <td>False</td>\n",
       "      <td>False</td>\n",
       "      <td>False</td>\n",
       "      <td>False</td>\n",
       "      <td>False</td>\n",
       "      <td>...</td>\n",
       "      <td>0.187588</td>\n",
       "      <td>73.072792</td>\n",
       "      <td>0.130652</td>\n",
       "      <td>71.431288</td>\n",
       "      <td>0.299569</td>\n",
       "      <td>True</td>\n",
       "      <td>True</td>\n",
       "      <td>1.0</td>\n",
       "      <td>7.0</td>\n",
       "      <td>5464912</td>\n",
       "    </tr>\n",
       "    <tr>\n",
       "      <th>264698</th>\n",
       "      <td>True</td>\n",
       "      <td>False</td>\n",
       "      <td>False</td>\n",
       "      <td>False</td>\n",
       "      <td>False</td>\n",
       "      <td>False</td>\n",
       "      <td>False</td>\n",
       "      <td>False</td>\n",
       "      <td>False</td>\n",
       "      <td>False</td>\n",
       "      <td>...</td>\n",
       "      <td>0.096360</td>\n",
       "      <td>61.987447</td>\n",
       "      <td>0.187588</td>\n",
       "      <td>73.072792</td>\n",
       "      <td>0.130652</td>\n",
       "      <td>True</td>\n",
       "      <td>True</td>\n",
       "      <td>7.0</td>\n",
       "      <td>8.0</td>\n",
       "      <td>5464912</td>\n",
       "    </tr>\n",
       "    <tr>\n",
       "      <th>264699</th>\n",
       "      <td>True</td>\n",
       "      <td>False</td>\n",
       "      <td>False</td>\n",
       "      <td>False</td>\n",
       "      <td>False</td>\n",
       "      <td>False</td>\n",
       "      <td>False</td>\n",
       "      <td>False</td>\n",
       "      <td>False</td>\n",
       "      <td>False</td>\n",
       "      <td>...</td>\n",
       "      <td>0.234217</td>\n",
       "      <td>70.677878</td>\n",
       "      <td>0.096360</td>\n",
       "      <td>61.987447</td>\n",
       "      <td>0.187588</td>\n",
       "      <td>True</td>\n",
       "      <td>True</td>\n",
       "      <td>3.0</td>\n",
       "      <td>10.0</td>\n",
       "      <td>5464912</td>\n",
       "    </tr>\n",
       "    <tr>\n",
       "      <th>264700</th>\n",
       "      <td>True</td>\n",
       "      <td>False</td>\n",
       "      <td>False</td>\n",
       "      <td>False</td>\n",
       "      <td>False</td>\n",
       "      <td>False</td>\n",
       "      <td>False</td>\n",
       "      <td>False</td>\n",
       "      <td>False</td>\n",
       "      <td>False</td>\n",
       "      <td>...</td>\n",
       "      <td>0.234217</td>\n",
       "      <td>61.530000</td>\n",
       "      <td>0.234217</td>\n",
       "      <td>70.677878</td>\n",
       "      <td>0.096360</td>\n",
       "      <td>True</td>\n",
       "      <td>True</td>\n",
       "      <td>3.0</td>\n",
       "      <td>6.0</td>\n",
       "      <td>5464912</td>\n",
       "    </tr>\n",
       "  </tbody>\n",
       "</table>\n",
       "<p>10 rows × 146 columns</p>\n",
       "</div>"
      ],
      "text/plain": [
       "        actiontype_pass_a0  actiontype_cross_a0  actiontype_throw_in_a0  \\\n",
       "264691                True                False                   False   \n",
       "264692                True                False                   False   \n",
       "264693                True                False                   False   \n",
       "264694                True                False                   False   \n",
       "264695                True                False                   False   \n",
       "264696                True                False                   False   \n",
       "264697                True                False                   False   \n",
       "264698                True                False                   False   \n",
       "264699                True                False                   False   \n",
       "264700                True                False                   False   \n",
       "\n",
       "        actiontype_freekick_crossed_a0  actiontype_freekick_short_a0  \\\n",
       "264691                           False                         False   \n",
       "264692                           False                         False   \n",
       "264693                           False                         False   \n",
       "264694                           False                         False   \n",
       "264695                           False                         False   \n",
       "264696                           False                         False   \n",
       "264697                           False                         False   \n",
       "264698                           False                         False   \n",
       "264699                           False                         False   \n",
       "264700                           False                         False   \n",
       "\n",
       "        actiontype_corner_crossed_a0  actiontype_corner_short_a0  \\\n",
       "264691                         False                       False   \n",
       "264692                         False                       False   \n",
       "264693                         False                       False   \n",
       "264694                         False                       False   \n",
       "264695                         False                       False   \n",
       "264696                         False                       False   \n",
       "264697                         False                       False   \n",
       "264698                         False                       False   \n",
       "264699                         False                       False   \n",
       "264700                         False                       False   \n",
       "\n",
       "        actiontype_take_on_a0  actiontype_foul_a0  actiontype_tackle_a0  ...  \\\n",
       "264691                  False               False                 False  ...   \n",
       "264692                  False               False                 False  ...   \n",
       "264693                  False               False                 False  ...   \n",
       "264694                  False               False                 False  ...   \n",
       "264695                  False               False                 False  ...   \n",
       "264696                  False               False                 False  ...   \n",
       "264697                  False               False                 False  ...   \n",
       "264698                  False               False                 False  ...   \n",
       "264699                  False               False                 False  ...   \n",
       "264700                  False               False                 False  ...   \n",
       "\n",
       "        end_angle_to_goal_a0  end_dist_to_goal_a1  end_angle_to_goal_a1  \\\n",
       "264691              0.041314            90.091733              0.298793   \n",
       "264692              0.100587            98.784292              0.041314   \n",
       "264693              0.000000            81.260741              0.100587   \n",
       "264694              0.215642            77.700000              0.000000   \n",
       "264695              0.299569            73.092883              0.215642   \n",
       "264696              0.130652            71.431288              0.299569   \n",
       "264697              0.187588            73.072792              0.130652   \n",
       "264698              0.096360            61.987447              0.187588   \n",
       "264699              0.234217            70.677878              0.096360   \n",
       "264700              0.234217            61.530000              0.234217   \n",
       "\n",
       "        end_dist_to_goal_a2  end_angle_to_goal_a2  team_1  team_2  \\\n",
       "264691            77.269425              0.426424    True   False   \n",
       "264692            90.091733              0.298793    True    True   \n",
       "264693            98.784292              0.041314    True    True   \n",
       "264694            81.260741              0.100587    True    True   \n",
       "264695            77.700000              0.000000    True    True   \n",
       "264696            73.092883              0.215642    True    True   \n",
       "264697            71.431288              0.299569    True    True   \n",
       "264698            73.072792              0.130652    True    True   \n",
       "264699            61.987447              0.187588    True    True   \n",
       "264700            70.677878              0.096360    True    True   \n",
       "\n",
       "        time_delta_1  time_delta_2  game_id  \n",
       "264691           2.0           8.0  5464912  \n",
       "264692           5.0           7.0  5464912  \n",
       "264693          45.0          50.0  5464912  \n",
       "264694           5.0          50.0  5464912  \n",
       "264695           3.0           8.0  5464912  \n",
       "264696           6.0           9.0  5464912  \n",
       "264697           1.0           7.0  5464912  \n",
       "264698           7.0           8.0  5464912  \n",
       "264699           3.0          10.0  5464912  \n",
       "264700           3.0           6.0  5464912  \n",
       "\n",
       "[10 rows x 146 columns]"
      ]
     },
     "execution_count": 57,
     "metadata": {},
     "output_type": "execute_result"
    }
   ],
   "source": [
    "df_features.tail(10)"
   ]
  },
  {
   "cell_type": "markdown",
   "metadata": {},
   "source": [
    "# Split the dataset\n",
    "\n",
    "- Stratification: we want to keep the same distribution of classes in the train and test set, since we have two different class labels we provided a concatenation of the two labels to the stratify parameter."
   ]
  },
  {
   "cell_type": "code",
   "execution_count": 58,
   "metadata": {},
   "outputs": [
    {
     "data": {
      "text/plain": [
       "concedes\n",
       "False    263178\n",
       "True       1523\n",
       "Name: count, dtype: int64"
      ]
     },
     "execution_count": 58,
     "metadata": {},
     "output_type": "execute_result"
    }
   ],
   "source": [
    "df_labels['concedes'].value_counts()"
   ]
  },
  {
   "cell_type": "code",
   "execution_count": 59,
   "metadata": {},
   "outputs": [],
   "source": [
    "df_X_train, df_X_test, df_y_train, df_y_test = train_test_split(\n",
    "    df_features,\n",
    "    df_labels,\n",
    "    test_size=0.1,\n",
    "    random_state=42,\n",
    "    stratify=df_labels['scores'].astype(str) + '_' + df_labels['concedes'].astype(str)\n",
    ")"
   ]
  },
  {
   "cell_type": "code",
   "execution_count": 60,
   "metadata": {},
   "outputs": [
    {
     "data": {
      "text/plain": [
       "0.01663518448558116"
      ]
     },
     "execution_count": 60,
     "metadata": {},
     "output_type": "execute_result"
    }
   ],
   "source": [
    "df_y_train['scores'].mean()"
   ]
  },
  {
   "cell_type": "code",
   "execution_count": 61,
   "metadata": {},
   "outputs": [
    {
     "data": {
      "text/plain": [
       "0.016621963658343092"
      ]
     },
     "execution_count": 61,
     "metadata": {},
     "output_type": "execute_result"
    }
   ],
   "source": [
    "df_y_test['scores'].mean()"
   ]
  },
  {
   "cell_type": "code",
   "execution_count": 62,
   "metadata": {},
   "outputs": [
    {
     "data": {
      "text/plain": [
       "0.0057549427024304245"
      ]
     },
     "execution_count": 62,
     "metadata": {},
     "output_type": "execute_result"
    }
   ],
   "source": [
    "df_y_train['concedes'].mean()"
   ]
  },
  {
   "cell_type": "code",
   "execution_count": 63,
   "metadata": {},
   "outputs": [
    {
     "data": {
      "text/plain": [
       "0.005742132900154887"
      ]
     },
     "execution_count": 63,
     "metadata": {},
     "output_type": "execute_result"
    }
   ],
   "source": [
    "df_y_test['concedes'].mean()"
   ]
  },
  {
   "cell_type": "markdown",
   "metadata": {},
   "source": [
    "**Note**: In a real-world scenario where more data is available, you should consider respecting the chronological order of the games to construct the training set, validation set and test set. For instance, use the data for the 2016/2017 and 2017/2018 seasons to train the models, use the data for the 2018/2019 season to tune the models, and use the data for the 2019/2020 season to obtain the results."
   ]
  },
  {
   "cell_type": "markdown",
   "metadata": {},
   "source": [
    "## Construct baseline classfiers"
   ]
  },
  {
   "cell_type": "code",
   "execution_count": 89,
   "metadata": {},
   "outputs": [],
   "source": [
    "features = [\n",
    "    'start_dist_to_goal_a0',\n",
    "    'end_dist_to_goal_a0',\n",
    "    'start_dist_to_goal_a1',\n",
    "    'end_dist_to_goal_a1',\n",
    "    'start_dist_to_goal_a2',\n",
    "    'end_dist_to_goal_a2',\n",
    "    'start_angle_to_goal_a0',\n",
    "    'end_angle_to_goal_a0',\n",
    "    'start_angle_to_goal_a1',\n",
    "    'end_angle_to_goal_a1',\n",
    "    'start_angle_to_goal_a2',\n",
    "    'end_angle_to_goal_a2',\n",
    "    'team_1',\n",
    "    'team_2'\n",
    "]"
   ]
  },
  {
   "cell_type": "code",
   "execution_count": 85,
   "metadata": {},
   "outputs": [],
   "source": [
    "labels = ['scores',\n",
    "          #'concedes'\n",
    "          ]"
   ]
  },
  {
   "cell_type": "markdown",
   "metadata": {},
   "source": [
    "## Train classifier"
   ]
  },
  {
   "cell_type": "code",
   "execution_count": 107,
   "metadata": {},
   "outputs": [
    {
     "name": "stderr",
     "output_type": "stream",
     "text": [
      "100%|██████████| 1/1 [00:00<00:00,  2.33it/s]"
     ]
    },
    {
     "name": "stdout",
     "output_type": "stream",
     "text": [
      "CPU times: user 1.03 s, sys: 20.1 ms, total: 1.05 s\n",
      "Wall time: 432 ms\n"
     ]
    },
    {
     "name": "stderr",
     "output_type": "stream",
     "text": [
      "\n"
     ]
    }
   ],
   "source": [
    "%%time\n",
    "\n",
    "models = {}\n",
    "for label in tqdm(labels):\n",
    "    model = XGBClassifier(\n",
    "        n_estimators = 10,\n",
    "        max_depth = 3\n",
    "\n",
    "    )\n",
    "\n",
    "    model.fit(\n",
    "        X=df_X_train[features],\n",
    "        y=df_y_train[label]\n",
    "        )\n",
    "    models[label] = model"
   ]
  },
  {
   "cell_type": "markdown",
   "metadata": {},
   "source": [
    "## 4.2 Estimate the probabilities"
   ]
  },
  {
   "cell_type": "code",
   "execution_count": 108,
   "metadata": {},
   "outputs": [
    {
     "name": "stderr",
     "output_type": "stream",
     "text": [
      "100%|██████████| 1/1 [00:00<00:00, 36.19it/s]\n"
     ]
    }
   ],
   "source": [
    "dfs_predictions = {}\n",
    "for label in tqdm(labels):\n",
    "    model = models[label]\n",
    "    probabilities = model.predict_proba(\n",
    "        df_X_test[features]\n",
    "    )\n",
    "    predictions = probabilities[:, 1]\n",
    "    dfs_predictions[label] = pd.Series(predictions, index=df_X_test.index)\n",
    "df_predictions = pd.concat(dfs_predictions, axis=1)"
   ]
  },
  {
   "cell_type": "code",
   "execution_count": 109,
   "metadata": {},
   "outputs": [
    {
     "data": {
      "text/html": [
       "<div>\n",
       "<style scoped>\n",
       "    .dataframe tbody tr th:only-of-type {\n",
       "        vertical-align: middle;\n",
       "    }\n",
       "\n",
       "    .dataframe tbody tr th {\n",
       "        vertical-align: top;\n",
       "    }\n",
       "\n",
       "    .dataframe thead th {\n",
       "        text-align: right;\n",
       "    }\n",
       "</style>\n",
       "<table border=\"1\" class=\"dataframe\">\n",
       "  <thead>\n",
       "    <tr style=\"text-align: right;\">\n",
       "      <th></th>\n",
       "      <th>scores</th>\n",
       "    </tr>\n",
       "  </thead>\n",
       "  <tbody>\n",
       "    <tr>\n",
       "      <th>173282</th>\n",
       "      <td>0.010018</td>\n",
       "    </tr>\n",
       "    <tr>\n",
       "      <th>108467</th>\n",
       "      <td>0.033707</td>\n",
       "    </tr>\n",
       "    <tr>\n",
       "      <th>158101</th>\n",
       "      <td>0.021471</td>\n",
       "    </tr>\n",
       "    <tr>\n",
       "      <th>202342</th>\n",
       "      <td>0.019573</td>\n",
       "    </tr>\n",
       "    <tr>\n",
       "      <th>239227</th>\n",
       "      <td>0.010018</td>\n",
       "    </tr>\n",
       "    <tr>\n",
       "      <th>28748</th>\n",
       "      <td>0.013241</td>\n",
       "    </tr>\n",
       "    <tr>\n",
       "      <th>168668</th>\n",
       "      <td>0.015045</td>\n",
       "    </tr>\n",
       "    <tr>\n",
       "      <th>157030</th>\n",
       "      <td>0.014535</td>\n",
       "    </tr>\n",
       "    <tr>\n",
       "      <th>161053</th>\n",
       "      <td>0.021471</td>\n",
       "    </tr>\n",
       "    <tr>\n",
       "      <th>18458</th>\n",
       "      <td>0.061417</td>\n",
       "    </tr>\n",
       "  </tbody>\n",
       "</table>\n",
       "</div>"
      ],
      "text/plain": [
       "          scores\n",
       "173282  0.010018\n",
       "108467  0.033707\n",
       "158101  0.021471\n",
       "202342  0.019573\n",
       "239227  0.010018\n",
       "28748   0.013241\n",
       "168668  0.015045\n",
       "157030  0.014535\n",
       "161053  0.021471\n",
       "18458   0.061417"
      ]
     },
     "execution_count": 109,
     "metadata": {},
     "output_type": "execute_result"
    }
   ],
   "source": [
    "df_predictions.head(10)"
   ]
  },
  {
   "cell_type": "markdown",
   "metadata": {},
   "source": [
    "## 4.3 Evaluate the probabilities"
   ]
  },
  {
   "cell_type": "markdown",
   "metadata": {},
   "source": [
    "### 4.3.1 Compute base rate probabilities\n",
    "\n",
    "The following cell computes the base rate or prior probability of each class label in the training set. We use the base rate as a naive estimate for each example in the test set being true to establish a baseline for the evaluation metrics."
   ]
  },
  {
   "cell_type": "markdown",
   "metadata": {},
   "source": [
    "The `np.full()` function in NumPy is used to create a new array of given shape and type, filled with a fill value. Here's the syntax of the `np.full()` function:\n",
    "\n",
    "```python\n",
    "numpy.full(shape, fill_value, dtype=None, order='C')\n",
    "```\n",
    "\n",
    "Parameters:\n",
    "\n",
    "- `shape`: Shape of the new array, e.g., `(2, 3)` or `2`.\n",
    "- `fill_value`: Fill value.\n",
    "- `dtype` (optional): The desired data type for the array. If not given, then the type will be determined as the minimum type required to hold the objects in the sequence.\n",
    "- `order` (optional): Whether to store multidimensional data in row-major (C-style) or column-major (Fortran-style) order in memory.\n",
    "\n",
    "Here's an example of how to use the `np.full()` function:\n",
    "\n",
    "```python\n",
    "import numpy as np\n",
    "\n",
    "# Create a new 2x3 array filled with 7\n",
    "arr = np.full((2, 3), 7)\n",
    "\n",
    "print(arr)\n",
    "```\n",
    "\n",
    "Output:\n",
    "\n",
    "```\n",
    "[[7 7 7]\n",
    " [7 7 7]]\n",
    "```\n",
    "\n",
    "In this example, `np.full((2, 3), 7)` creates a new 2x3 array filled with 7."
   ]
  },
  {
   "cell_type": "code",
   "execution_count": 110,
   "metadata": {},
   "outputs": [],
   "source": [
    "df_base_rates = pd.DataFrame({\n",
    "    label:np.full(len(df_y_test[label]), df_y_train[label].mean()) for label in labels\n",
    "    })"
   ]
  },
  {
   "cell_type": "code",
   "execution_count": 111,
   "metadata": {},
   "outputs": [
    {
     "data": {
      "text/html": [
       "<div>\n",
       "<style scoped>\n",
       "    .dataframe tbody tr th:only-of-type {\n",
       "        vertical-align: middle;\n",
       "    }\n",
       "\n",
       "    .dataframe tbody tr th {\n",
       "        vertical-align: top;\n",
       "    }\n",
       "\n",
       "    .dataframe thead th {\n",
       "        text-align: right;\n",
       "    }\n",
       "</style>\n",
       "<table border=\"1\" class=\"dataframe\">\n",
       "  <thead>\n",
       "    <tr style=\"text-align: right;\">\n",
       "      <th></th>\n",
       "      <th>scores</th>\n",
       "    </tr>\n",
       "  </thead>\n",
       "  <tbody>\n",
       "    <tr>\n",
       "      <th>0</th>\n",
       "      <td>0.016635</td>\n",
       "    </tr>\n",
       "    <tr>\n",
       "      <th>1</th>\n",
       "      <td>0.016635</td>\n",
       "    </tr>\n",
       "    <tr>\n",
       "      <th>2</th>\n",
       "      <td>0.016635</td>\n",
       "    </tr>\n",
       "    <tr>\n",
       "      <th>3</th>\n",
       "      <td>0.016635</td>\n",
       "    </tr>\n",
       "    <tr>\n",
       "      <th>4</th>\n",
       "      <td>0.016635</td>\n",
       "    </tr>\n",
       "  </tbody>\n",
       "</table>\n",
       "</div>"
      ],
      "text/plain": [
       "     scores\n",
       "0  0.016635\n",
       "1  0.016635\n",
       "2  0.016635\n",
       "3  0.016635\n",
       "4  0.016635"
      ]
     },
     "execution_count": 111,
     "metadata": {},
     "output_type": "execute_result"
    }
   ],
   "source": [
    "df_base_rates.head()"
   ]
  },
  {
   "cell_type": "markdown",
   "metadata": {},
   "source": [
    "## 4.3.2 Compute Brier score loss for goal scored model"
   ]
  },
  {
   "cell_type": "code",
   "execution_count": 112,
   "metadata": {},
   "outputs": [],
   "source": [
    "from sklearn.metrics import brier_score_loss, roc_auc_score"
   ]
  },
  {
   "cell_type": "markdown",
   "metadata": {},
   "source": [
    "The following computes the Brier loss score for the base rate predictions"
   ]
  },
  {
   "cell_type": "code",
   "execution_count": 113,
   "metadata": {},
   "outputs": [
    {
     "data": {
      "text/plain": [
       "0.016345674157274084"
      ]
     },
     "execution_count": 113,
     "metadata": {},
     "output_type": "execute_result"
    }
   ],
   "source": [
    "brier_score_loss(\n",
    "    y_true = df_y_test['scores'],\n",
    "    y_prob = df_base_rates['scores']\n",
    ")"
   ]
  },
  {
   "cell_type": "markdown",
   "metadata": {},
   "source": [
    "The following computes the Brier loss score for the prediction by the learned model."
   ]
  },
  {
   "cell_type": "code",
   "execution_count": 114,
   "metadata": {},
   "outputs": [
    {
     "data": {
      "text/plain": [
       "0.01508935457762824"
      ]
     },
     "execution_count": 114,
     "metadata": {},
     "output_type": "execute_result"
    }
   ],
   "source": [
    "brier_score_loss(\n",
    "    y_true = df_y_test['scores'],\n",
    "    y_prob = df_predictions['scores']\n",
    ")"
   ]
  },
  {
   "cell_type": "markdown",
   "metadata": {},
   "source": [
    "We can also make the same calculation for conceded goals"
   ]
  },
  {
   "cell_type": "code",
   "execution_count": null,
   "metadata": {},
   "outputs": [],
   "source": [
    "#brier_score_loss(\n",
    "#    y_true = df_y_test['conceded'],\n",
    "#    y_prob = df_base_rates['conceded']\n",
    "#)\n",
    "\n",
    "#brier_score_loss(\n",
    "#    y_true = df_y_test['conceded'],\n",
    "#    y_prob = df_predictions['conceded']\n",
    "#)"
   ]
  },
  {
   "cell_type": "markdown",
   "metadata": {},
   "source": [
    "## 4.3.4 Plot the calibration curve and probability histogram"
   ]
  },
  {
   "cell_type": "code",
   "execution_count": 115,
   "metadata": {},
   "outputs": [],
   "source": [
    "from scikitplot.metrics import plot_calibration_curve"
   ]
  },
  {
   "cell_type": "code",
   "execution_count": 116,
   "metadata": {},
   "outputs": [
    {
     "data": {
      "text/plain": [
       "<Axes: ylabel='Frequency'>"
      ]
     },
     "execution_count": 116,
     "metadata": {},
     "output_type": "execute_result"
    },
    {
     "data": {
      "image/png": "[encoded data removed]",
      "text/plain": [
       "<Figure size 800x800 with 2 Axes>"
      ]
     },
     "metadata": {},
     "output_type": "display_data"
    }
   ],
   "source": [
    "fig, (ax1, ax2) = plt.subplots(\n",
    "    nrows=2,\n",
    "    ncols=1,\n",
    "    figsize=(8, 8),\n",
    "    gridspec_kw={'height_ratios':[3, 1]\n",
    "    }\n",
    ")\n",
    "plot_calibration_curve(\n",
    "    y_true=df_y_test['scores'],\n",
    "    probas_list=[df_predictions['scores'].tolist()],\n",
    "    clf_names=['Goal scored model'],\n",
    "    n_bins=10,\n",
    "    ax=ax1\n",
    ")\n",
    "\n",
    "df_predictions['scores'].plot.hist(\n",
    "    range=(0, 1),\n",
    "    bins=10,\n",
    "    ax=ax2\n",
    ")"
   ]
  },
  {
   "cell_type": "markdown",
   "metadata": {},
   "source": [
    "# 5 Optimize classifiers"
   ]
  },
  {
   "cell_type": "code",
   "execution_count": 117,
   "metadata": {},
   "outputs": [
    {
     "data": {
      "text/plain": [
       "['scores']"
      ]
     },
     "execution_count": 117,
     "metadata": {},
     "output_type": "execute_result"
    }
   ],
   "source": [
    "labels"
   ]
  },
  {
   "cell_type": "code",
   "execution_count": 118,
   "metadata": {},
   "outputs": [
    {
     "data": {
      "text/plain": [
       "['start_dist_to_goal_a0',\n",
       " 'end_dist_to_goal_a0',\n",
       " 'start_dist_to_goal_a1',\n",
       " 'end_dist_to_goal_a1',\n",
       " 'start_dist_to_goal_a2',\n",
       " 'end_dist_to_goal_a2',\n",
       " 'start_angle_to_goal_a0',\n",
       " 'end_angle_to_goal_a0',\n",
       " 'start_angle_to_goal_a1',\n",
       " 'end_angle_to_goal_a1',\n",
       " 'start_angle_to_goal_a2',\n",
       " 'end_angle_to_goal_a2',\n",
       " 'team_1',\n",
       " 'team_2']"
      ]
     },
     "execution_count": 118,
     "metadata": {},
     "output_type": "execute_result"
    }
   ],
   "source": [
    "features"
   ]
  },
  {
   "cell_type": "code",
   "execution_count": 125,
   "metadata": {},
   "outputs": [
    {
     "name": "stderr",
     "output_type": "stream",
     "text": [
      "  0%|          | 0/1 [00:00<?, ?it/s]"
     ]
    },
    {
     "name": "stdout",
     "output_type": "stream",
     "text": [
      "Fitting 5 folds for each of 4 candidates, totalling 20 fits\n",
      "[CV 1/5; 1/4] START max_depth=3, n_estimators=50................................\n",
      "[CV 1/5; 1/4] END max_depth=3, n_estimators=50;, score=-0.015 total time=   0.6s\n",
      "[CV 2/5; 1/4] START max_depth=3, n_estimators=50................................\n",
      "[CV 2/5; 1/4] END max_depth=3, n_estimators=50;, score=-0.015 total time=   0.6s\n",
      "[CV 3/5; 1/4] START max_depth=3, n_estimators=50................................\n",
      "[CV 3/5; 1/4] END max_depth=3, n_estimators=50;, score=-0.015 total time=   0.6s\n",
      "[CV 4/5; 1/4] START max_depth=3, n_estimators=50................................\n",
      "[CV 4/5; 1/4] END max_depth=3, n_estimators=50;, score=-0.015 total time=   0.5s\n",
      "[CV 5/5; 1/4] START max_depth=3, n_estimators=50................................\n",
      "[CV 5/5; 1/4] END max_depth=3, n_estimators=50;, score=-0.015 total time=   0.5s\n",
      "[CV 1/5; 2/4] START max_depth=3, n_estimators=100...............................\n",
      "[CV 1/5; 2/4] END max_depth=3, n_estimators=100;, score=-0.015 total time=   0.8s\n",
      "[CV 2/5; 2/4] START max_depth=3, n_estimators=100...............................\n",
      "[CV 2/5; 2/4] END max_depth=3, n_estimators=100;, score=-0.015 total time=   0.8s\n",
      "[CV 3/5; 2/4] START max_depth=3, n_estimators=100...............................\n",
      "[CV 3/5; 2/4] END max_depth=3, n_estimators=100;, score=-0.015 total time=   0.7s\n",
      "[CV 4/5; 2/4] START max_depth=3, n_estimators=100...............................\n",
      "[CV 4/5; 2/4] END max_depth=3, n_estimators=100;, score=-0.015 total time=   0.8s\n",
      "[CV 5/5; 2/4] START max_depth=3, n_estimators=100...............................\n",
      "[CV 5/5; 2/4] END max_depth=3, n_estimators=100;, score=-0.015 total time=   0.8s\n",
      "[CV 1/5; 3/4] START max_depth=4, n_estimators=50................................\n",
      "[CV 1/5; 3/4] END max_depth=4, n_estimators=50;, score=-0.015 total time=   0.6s\n",
      "[CV 2/5; 3/4] START max_depth=4, n_estimators=50................................\n",
      "[CV 2/5; 3/4] END max_depth=4, n_estimators=50;, score=-0.015 total time=   0.6s\n",
      "[CV 3/5; 3/4] START max_depth=4, n_estimators=50................................\n",
      "[CV 3/5; 3/4] END max_depth=4, n_estimators=50;, score=-0.015 total time=   0.6s\n",
      "[CV 4/5; 3/4] START max_depth=4, n_estimators=50................................\n",
      "[CV 4/5; 3/4] END max_depth=4, n_estimators=50;, score=-0.015 total time=   0.6s\n",
      "[CV 5/5; 3/4] START max_depth=4, n_estimators=50................................\n",
      "[CV 5/5; 3/4] END max_depth=4, n_estimators=50;, score=-0.015 total time=   0.6s\n",
      "[CV 1/5; 4/4] START max_depth=4, n_estimators=100...............................\n",
      "[CV 1/5; 4/4] END max_depth=4, n_estimators=100;, score=-0.015 total time=   0.9s\n",
      "[CV 2/5; 4/4] START max_depth=4, n_estimators=100...............................\n",
      "[CV 2/5; 4/4] END max_depth=4, n_estimators=100;, score=-0.015 total time=   0.8s\n",
      "[CV 3/5; 4/4] START max_depth=4, n_estimators=100...............................\n",
      "[CV 3/5; 4/4] END max_depth=4, n_estimators=100;, score=-0.015 total time=   0.8s\n",
      "[CV 4/5; 4/4] START max_depth=4, n_estimators=100...............................\n",
      "[CV 4/5; 4/4] END max_depth=4, n_estimators=100;, score=-0.015 total time=   0.8s\n",
      "[CV 5/5; 4/4] START max_depth=4, n_estimators=100...............................\n",
      "[CV 5/5; 4/4] END max_depth=4, n_estimators=100;, score=-0.015 total time=   0.8s\n"
     ]
    },
    {
     "name": "stderr",
     "output_type": "stream",
     "text": [
      "100%|██████████| 1/1 [00:14<00:00, 14.54s/it]"
     ]
    },
    {
     "name": "stdout",
     "output_type": "stream",
     "text": [
      "CPU times: user 45.6 s, sys: 440 ms, total: 46.1 s\n",
      "Wall time: 14.5 s\n"
     ]
    },
    {
     "name": "stderr",
     "output_type": "stream",
     "text": [
      "\n"
     ]
    }
   ],
   "source": [
    "%%time\n",
    "models_cv = {}\n",
    "for label in tqdm(labels):\n",
    "    model_cv = GridSearchCV(\n",
    "        estimator=XGBClassifier(\n",
    "            eval_metric='logloss',\n",
    "            use_label_encoder=False,\n",
    "        ),\n",
    "        param_grid={\n",
    "            'n_estimators': [50, 100],\n",
    "            'max_depth': [3, 4]\n",
    "        },\n",
    "        scoring='neg_brier_score',\n",
    "        refit=True,  # train final model on full training set using best hyperparameters\n",
    "        verbose=10,\n",
    "        n_jobs=1\n",
    "    )\n",
    "    model_cv.fit(\n",
    "        X=df_X_train[features],\n",
    "        y=df_y_train[label]\n",
    "    )\n",
    "    models_cv[label] = model_cv"
   ]
  },
  {
   "cell_type": "markdown",
   "metadata": {},
   "source": [
    "**Note**: We have considered a manually selected set of features to represent the game states. In addition to optimizing the hyperparameters for the learning algorithm, we could also optimize the set of features to be considered by the learning algorithm. However, the XGBoost algorithm should be able to figure out by itself which features are most important to include in the model by the nature of the algorithm.\n",
    "\n",
    "## Estimate probabilities\n",
    "The following cell estimates the probabilities for each label using the trained baseline models."
   ]
  },
  {
   "cell_type": "code",
   "execution_count": 126,
   "metadata": {},
   "outputs": [
    {
     "name": "stderr",
     "output_type": "stream",
     "text": [
      "100%|██████████| 1/1 [00:00<00:00, 29.99it/s]\n"
     ]
    }
   ],
   "source": [
    "dfs_predictions_cv = {}\n",
    "for label in tqdm(labels):\n",
    "    model_cv = models_cv[label]\n",
    "    probabilities_cv = model_cv.predict_proba(\n",
    "        df_X_test[features]\n",
    "    )\n",
    "    predictions_cv = probabilities_cv[:, 1]\n",
    "    dfs_predictions_cv[label] = pd.Series(predictions_cv, index=df_X_test.index)\n",
    "df_predictions_cv = pd.concat(dfs_predictions_cv, axis=1)"
   ]
  },
  {
   "cell_type": "markdown",
   "metadata": {},
   "source": [
    "## Evaluate probabilities\n",
    "Compute Brier score loss for goal scored model\n",
    "The following cell computes the Brier loss score for the base rate predictions."
   ]
  },
  {
   "cell_type": "code",
   "execution_count": 127,
   "metadata": {},
   "outputs": [
    {
     "data": {
      "text/html": [
       "<div>\n",
       "<style scoped>\n",
       "    .dataframe tbody tr th:only-of-type {\n",
       "        vertical-align: middle;\n",
       "    }\n",
       "\n",
       "    .dataframe tbody tr th {\n",
       "        vertical-align: top;\n",
       "    }\n",
       "\n",
       "    .dataframe thead th {\n",
       "        text-align: right;\n",
       "    }\n",
       "</style>\n",
       "<table border=\"1\" class=\"dataframe\">\n",
       "  <thead>\n",
       "    <tr style=\"text-align: right;\">\n",
       "      <th></th>\n",
       "      <th>scores</th>\n",
       "    </tr>\n",
       "  </thead>\n",
       "  <tbody>\n",
       "    <tr>\n",
       "      <th>173282</th>\n",
       "      <td>0.006048</td>\n",
       "    </tr>\n",
       "    <tr>\n",
       "      <th>108467</th>\n",
       "      <td>0.018980</td>\n",
       "    </tr>\n",
       "    <tr>\n",
       "      <th>158101</th>\n",
       "      <td>0.018011</td>\n",
       "    </tr>\n",
       "    <tr>\n",
       "      <th>202342</th>\n",
       "      <td>0.012674</td>\n",
       "    </tr>\n",
       "    <tr>\n",
       "      <th>239227</th>\n",
       "      <td>0.002950</td>\n",
       "    </tr>\n",
       "    <tr>\n",
       "      <th>...</th>\n",
       "      <td>...</td>\n",
       "    </tr>\n",
       "    <tr>\n",
       "      <th>34893</th>\n",
       "      <td>0.009223</td>\n",
       "    </tr>\n",
       "    <tr>\n",
       "      <th>172422</th>\n",
       "      <td>0.003619</td>\n",
       "    </tr>\n",
       "    <tr>\n",
       "      <th>16038</th>\n",
       "      <td>0.019519</td>\n",
       "    </tr>\n",
       "    <tr>\n",
       "      <th>240169</th>\n",
       "      <td>0.048216</td>\n",
       "    </tr>\n",
       "    <tr>\n",
       "      <th>73122</th>\n",
       "      <td>0.008190</td>\n",
       "    </tr>\n",
       "  </tbody>\n",
       "</table>\n",
       "<p>26471 rows × 1 columns</p>\n",
       "</div>"
      ],
      "text/plain": [
       "          scores\n",
       "173282  0.006048\n",
       "108467  0.018980\n",
       "158101  0.018011\n",
       "202342  0.012674\n",
       "239227  0.002950\n",
       "...          ...\n",
       "34893   0.009223\n",
       "172422  0.003619\n",
       "16038   0.019519\n",
       "240169  0.048216\n",
       "73122   0.008190\n",
       "\n",
       "[26471 rows x 1 columns]"
      ]
     },
     "execution_count": 127,
     "metadata": {},
     "output_type": "execute_result"
    }
   ],
   "source": [
    "df_predictions_cv"
   ]
  },
  {
   "cell_type": "code",
   "execution_count": 128,
   "metadata": {},
   "outputs": [
    {
     "data": {
      "text/plain": [
       "0.016345674157274084"
      ]
     },
     "execution_count": 128,
     "metadata": {},
     "output_type": "execute_result"
    }
   ],
   "source": [
    "brier_score_loss(\n",
    "    y_true=df_y_test['scores'],\n",
    "    y_prob=df_base_rates['scores']\n",
    ")"
   ]
  },
  {
   "cell_type": "code",
   "execution_count": 129,
   "metadata": {},
   "outputs": [
    {
     "data": {
      "text/plain": [
       "0.014939322764307632"
      ]
     },
     "execution_count": 129,
     "metadata": {},
     "output_type": "execute_result"
    }
   ],
   "source": [
    "brier_score_loss(\n",
    "    y_true=df_y_test['scores'],\n",
    "    y_prob=df_predictions_cv['scores']\n",
    ")"
   ]
  },
  {
   "cell_type": "markdown",
   "metadata": {},
   "source": [
    "## Plot calibration curve and probability histogram\n",
    "The following cell creates a plot to show both a calibration curve and a probability histogram."
   ]
  },
  {
   "cell_type": "code",
   "execution_count": 130,
   "metadata": {},
   "outputs": [
    {
     "data": {
      "text/plain": [
       "<Axes: ylabel='Frequency'>"
      ]
     },
     "execution_count": 130,
     "metadata": {},
     "output_type": "execute_result"
    },
    {
     "data": {
      "image/png": "[encoded data removed]",
      "text/plain": [
       "<Figure size 800x800 with 2 Axes>"
      ]
     },
     "metadata": {},
     "output_type": "display_data"
    }
   ],
   "source": [
    "fig_cv, (ax1_cv, ax2_cv) = plt.subplots(\n",
    "    nrows=2,\n",
    "    ncols=1,\n",
    "    figsize=(8, 8),\n",
    "    gridspec_kw={\n",
    "        'height_ratios': [3, 1]\n",
    "    }\n",
    ")\n",
    "\n",
    "plot_calibration_curve(\n",
    "    y_true=df_y_test['scores'],\n",
    "    probas_list=[df_predictions_cv['scores'].tolist()],\n",
    "    clf_names=['Goal scored model'],\n",
    "    n_bins=10,\n",
    "    ax=ax1_cv\n",
    ")\n",
    "\n",
    "df_predictions_cv['scores'].plot.hist(\n",
    "    range=(0, 1),\n",
    "    bins=10,\n",
    "    ax=ax2_cv\n",
    ")"
   ]
  },
  {
   "cell_type": "markdown",
   "metadata": {},
   "source": [
    "### Optional: Calibrate probabilities\n",
    "\n",
    "If the trained model produces poorly calibrated probability estimates, the probability estimates can be re-calibrated using ``CalibratedClassifierCV``, which performs probability calibration with isotonic regression or logistic regression.\n",
    "\n",
    "### Construct final classifiers\n",
    "Once we have found the best feature set and best hyperparameters for the learning algorithm, we can learn the final model.\n",
    "\n",
    "If we use GridSearchCV and the refit parameter was set to True, we can retrieve the final model, which has been re-trained on the entire training set, by accessing the best_estimator_ attribute of the object.\n",
    "We can manually train the final model by creating a XGBClassifier object using the best hyperparameters and calling the fit method with the entire training set.\n",
    "\n",
    "### Option 1: Retrieve classifier from grid search"
   ]
  },
  {
   "cell_type": "code",
   "execution_count": 131,
   "metadata": {},
   "outputs": [],
   "source": [
    "model_scores = models_cv['scores']"
   ]
  },
  {
   "cell_type": "code",
   "execution_count": 132,
   "metadata": {},
   "outputs": [
    {
     "data": {
      "text/plain": [
       "max_depth        3\n",
       "n_estimators    50\n",
       "dtype: int64"
      ]
     },
     "execution_count": 132,
     "metadata": {},
     "output_type": "execute_result"
    }
   ],
   "source": [
    "pd.Series(\n",
    "    model_scores.best_params_\n",
    ")"
   ]
  },
  {
   "cell_type": "code",
   "execution_count": 133,
   "metadata": {},
   "outputs": [
    {
     "data": {
      "text/html": [
       "<div>\n",
       "<style scoped>\n",
       "    .dataframe tbody tr th:only-of-type {\n",
       "        vertical-align: middle;\n",
       "    }\n",
       "\n",
       "    .dataframe tbody tr th {\n",
       "        vertical-align: top;\n",
       "    }\n",
       "\n",
       "    .dataframe thead th {\n",
       "        text-align: right;\n",
       "    }\n",
       "</style>\n",
       "<table border=\"1\" class=\"dataframe\">\n",
       "  <thead>\n",
       "    <tr style=\"text-align: right;\">\n",
       "      <th></th>\n",
       "      <th>mean_fit_time</th>\n",
       "      <th>std_fit_time</th>\n",
       "      <th>mean_score_time</th>\n",
       "      <th>std_score_time</th>\n",
       "      <th>param_max_depth</th>\n",
       "      <th>param_n_estimators</th>\n",
       "      <th>params</th>\n",
       "      <th>split0_test_score</th>\n",
       "      <th>split1_test_score</th>\n",
       "      <th>split2_test_score</th>\n",
       "      <th>split3_test_score</th>\n",
       "      <th>split4_test_score</th>\n",
       "      <th>mean_test_score</th>\n",
       "      <th>std_test_score</th>\n",
       "      <th>rank_test_score</th>\n",
       "    </tr>\n",
       "  </thead>\n",
       "  <tbody>\n",
       "    <tr>\n",
       "      <th>0</th>\n",
       "      <td>0.520530</td>\n",
       "      <td>0.041532</td>\n",
       "      <td>0.043542</td>\n",
       "      <td>0.000666</td>\n",
       "      <td>3</td>\n",
       "      <td>50</td>\n",
       "      <td>{'max_depth': 3, 'n_estimators': 50}</td>\n",
       "      <td>-0.015245</td>\n",
       "      <td>-0.015141</td>\n",
       "      <td>-0.015237</td>\n",
       "      <td>-0.015393</td>\n",
       "      <td>-0.015278</td>\n",
       "      <td>-0.015259</td>\n",
       "      <td>0.000081</td>\n",
       "      <td>1</td>\n",
       "    </tr>\n",
       "    <tr>\n",
       "      <th>1</th>\n",
       "      <td>0.709852</td>\n",
       "      <td>0.028617</td>\n",
       "      <td>0.049815</td>\n",
       "      <td>0.000813</td>\n",
       "      <td>3</td>\n",
       "      <td>100</td>\n",
       "      <td>{'max_depth': 3, 'n_estimators': 100}</td>\n",
       "      <td>-0.015262</td>\n",
       "      <td>-0.015152</td>\n",
       "      <td>-0.015255</td>\n",
       "      <td>-0.015425</td>\n",
       "      <td>-0.015354</td>\n",
       "      <td>-0.015290</td>\n",
       "      <td>0.000093</td>\n",
       "      <td>2</td>\n",
       "    </tr>\n",
       "    <tr>\n",
       "      <th>2</th>\n",
       "      <td>0.552396</td>\n",
       "      <td>0.011591</td>\n",
       "      <td>0.046688</td>\n",
       "      <td>0.000739</td>\n",
       "      <td>4</td>\n",
       "      <td>50</td>\n",
       "      <td>{'max_depth': 4, 'n_estimators': 50}</td>\n",
       "      <td>-0.015266</td>\n",
       "      <td>-0.015147</td>\n",
       "      <td>-0.015313</td>\n",
       "      <td>-0.015441</td>\n",
       "      <td>-0.015342</td>\n",
       "      <td>-0.015302</td>\n",
       "      <td>0.000096</td>\n",
       "      <td>3</td>\n",
       "    </tr>\n",
       "    <tr>\n",
       "      <th>3</th>\n",
       "      <td>0.795461</td>\n",
       "      <td>0.050197</td>\n",
       "      <td>0.056129</td>\n",
       "      <td>0.000383</td>\n",
       "      <td>4</td>\n",
       "      <td>100</td>\n",
       "      <td>{'max_depth': 4, 'n_estimators': 100}</td>\n",
       "      <td>-0.015304</td>\n",
       "      <td>-0.015243</td>\n",
       "      <td>-0.015360</td>\n",
       "      <td>-0.015471</td>\n",
       "      <td>-0.015461</td>\n",
       "      <td>-0.015368</td>\n",
       "      <td>0.000089</td>\n",
       "      <td>4</td>\n",
       "    </tr>\n",
       "  </tbody>\n",
       "</table>\n",
       "</div>"
      ],
      "text/plain": [
       "   mean_fit_time  std_fit_time  mean_score_time  std_score_time  \\\n",
       "0       0.520530      0.041532         0.043542        0.000666   \n",
       "1       0.709852      0.028617         0.049815        0.000813   \n",
       "2       0.552396      0.011591         0.046688        0.000739   \n",
       "3       0.795461      0.050197         0.056129        0.000383   \n",
       "\n",
       "  param_max_depth param_n_estimators                                 params  \\\n",
       "0               3                 50   {'max_depth': 3, 'n_estimators': 50}   \n",
       "1               3                100  {'max_depth': 3, 'n_estimators': 100}   \n",
       "2               4                 50   {'max_depth': 4, 'n_estimators': 50}   \n",
       "3               4                100  {'max_depth': 4, 'n_estimators': 100}   \n",
       "\n",
       "   split0_test_score  split1_test_score  split2_test_score  split3_test_score  \\\n",
       "0          -0.015245          -0.015141          -0.015237          -0.015393   \n",
       "1          -0.015262          -0.015152          -0.015255          -0.015425   \n",
       "2          -0.015266          -0.015147          -0.015313          -0.015441   \n",
       "3          -0.015304          -0.015243          -0.015360          -0.015471   \n",
       "\n",
       "   split4_test_score  mean_test_score  std_test_score  rank_test_score  \n",
       "0          -0.015278        -0.015259        0.000081                1  \n",
       "1          -0.015354        -0.015290        0.000093                2  \n",
       "2          -0.015342        -0.015302        0.000096                3  \n",
       "3          -0.015461        -0.015368        0.000089                4  "
      ]
     },
     "execution_count": 133,
     "metadata": {},
     "output_type": "execute_result"
    }
   ],
   "source": [
    "pd.DataFrame(\n",
    "    model_scores.cv_results_\n",
    ")"
   ]
  },
  {
   "cell_type": "code",
   "execution_count": 134,
   "metadata": {},
   "outputs": [
    {
     "data": {
      "text/plain": [
       "objective                  binary:logistic\n",
       "base_score                            None\n",
       "booster                               None\n",
       "callbacks                             None\n",
       "colsample_bylevel                     None\n",
       "colsample_bynode                      None\n",
       "colsample_bytree                      None\n",
       "device                                None\n",
       "early_stopping_rounds                 None\n",
       "enable_categorical                   False\n",
       "eval_metric                        logloss\n",
       "feature_types                         None\n",
       "gamma                                 None\n",
       "grow_policy                           None\n",
       "importance_type                       None\n",
       "interaction_constraints               None\n",
       "learning_rate                         None\n",
       "max_bin                               None\n",
       "max_cat_threshold                     None\n",
       "max_cat_to_onehot                     None\n",
       "max_delta_step                        None\n",
       "max_depth                                3\n",
       "max_leaves                            None\n",
       "min_child_weight                      None\n",
       "missing                                NaN\n",
       "monotone_constraints                  None\n",
       "multi_strategy                        None\n",
       "n_estimators                            50\n",
       "n_jobs                                None\n",
       "num_parallel_tree                     None\n",
       "random_state                          None\n",
       "reg_alpha                             None\n",
       "reg_lambda                            None\n",
       "sampling_method                       None\n",
       "scale_pos_weight                      None\n",
       "subsample                             None\n",
       "tree_method                           None\n",
       "validate_parameters                   None\n",
       "verbosity                             None\n",
       "use_label_encoder                    False\n",
       "dtype: object"
      ]
     },
     "execution_count": 134,
     "metadata": {},
     "output_type": "execute_result"
    }
   ],
   "source": [
    "pd.Series(\n",
    "    model_scores.best_estimator_.get_params()\n",
    ")"
   ]
  },
  {
   "cell_type": "code",
   "execution_count": 135,
   "metadata": {},
   "outputs": [],
   "source": [
    "model_scores_final = model_scores.best_estimator_"
   ]
  },
  {
   "cell_type": "code",
   "execution_count": 136,
   "metadata": {},
   "outputs": [
    {
     "data": {
      "text/html": [
       "<style>#sk-container-id-1 {color: black;}#sk-container-id-1 pre{padding: 0;}#sk-container-id-1 div.sk-toggleable {background-color: white;}#sk-container-id-1 label.sk-toggleable__label {cursor: pointer;display: block;width: 100%;margin-bottom: 0;padding: 0.3em;box-sizing: border-box;text-align: center;}#sk-container-id-1 label.sk-toggleable__label-arrow:before {content: \"▸\";float: left;margin-right: 0.25em;color: #696969;}#sk-container-id-1 label.sk-toggleable__label-arrow:hover:before {color: black;}#sk-container-id-1 div.sk-estimator:hover label.sk-toggleable__label-arrow:before {color: black;}#sk-container-id-1 div.sk-toggleable__content {max-height: 0;max-width: 0;overflow: hidden;text-align: left;background-color: #f0f8ff;}#sk-container-id-1 div.sk-toggleable__content pre {margin: 0.2em;color: black;border-radius: 0.25em;background-color: #f0f8ff;}#sk-container-id-1 input.sk-toggleable__control:checked~div.sk-toggleable__content {max-height: 200px;max-width: 100%;overflow: auto;}#sk-container-id-1 input.sk-toggleable__control:checked~label.sk-toggleable__label-arrow:before {content: \"▾\";}#sk-container-id-1 div.sk-estimator input.sk-toggleable__control:checked~label.sk-toggleable__label {background-color: #d4ebff;}#sk-container-id-1 div.sk-label input.sk-toggleable__control:checked~label.sk-toggleable__label {background-color: #d4ebff;}#sk-container-id-1 input.sk-hidden--visually {border: 0;clip: rect(1px 1px 1px 1px);clip: rect(1px, 1px, 1px, 1px);height: 1px;margin: -1px;overflow: hidden;padding: 0;position: absolute;width: 1px;}#sk-container-id-1 div.sk-estimator {font-family: monospace;background-color: #f0f8ff;border: 1px dotted black;border-radius: 0.25em;box-sizing: border-box;margin-bottom: 0.5em;}#sk-container-id-1 div.sk-estimator:hover {background-color: #d4ebff;}#sk-container-id-1 div.sk-parallel-item::after {content: \"\";width: 100%;border-bottom: 1px solid gray;flex-grow: 1;}#sk-container-id-1 div.sk-label:hover label.sk-toggleable__label {background-color: #d4ebff;}#sk-container-id-1 div.sk-serial::before {content: \"\";position: absolute;border-left: 1px solid gray;box-sizing: border-box;top: 0;bottom: 0;left: 50%;z-index: 0;}#sk-container-id-1 div.sk-serial {display: flex;flex-direction: column;align-items: center;background-color: white;padding-right: 0.2em;padding-left: 0.2em;position: relative;}#sk-container-id-1 div.sk-item {position: relative;z-index: 1;}#sk-container-id-1 div.sk-parallel {display: flex;align-items: stretch;justify-content: center;background-color: white;position: relative;}#sk-container-id-1 div.sk-item::before, #sk-container-id-1 div.sk-parallel-item::before {content: \"\";position: absolute;border-left: 1px solid gray;box-sizing: border-box;top: 0;bottom: 0;left: 50%;z-index: -1;}#sk-container-id-1 div.sk-parallel-item {display: flex;flex-direction: column;z-index: 1;position: relative;background-color: white;}#sk-container-id-1 div.sk-parallel-item:first-child::after {align-self: flex-end;width: 50%;}#sk-container-id-1 div.sk-parallel-item:last-child::after {align-self: flex-start;width: 50%;}#sk-container-id-1 div.sk-parallel-item:only-child::after {width: 0;}#sk-container-id-1 div.sk-dashed-wrapped {border: 1px dashed gray;margin: 0 0.4em 0.5em 0.4em;box-sizing: border-box;padding-bottom: 0.4em;background-color: white;}#sk-container-id-1 div.sk-label label {font-family: monospace;font-weight: bold;display: inline-block;line-height: 1.2em;}#sk-container-id-1 div.sk-label-container {text-align: center;}#sk-container-id-1 div.sk-container {/* jupyter's `normalize.less` sets `[hidden] { display: none; }` but bootstrap.min.css set `[hidden] { display: none !important; }` so we also need the `!important` here to be able to override the default hidden behavior on the sphinx rendered scikit-learn.org. See: https://github.com/scikit-learn/scikit-learn/issues/21755 */display: inline-block !important;position: relative;}#sk-container-id-1 div.sk-text-repr-fallback {display: none;}</style><div id=\"sk-container-id-1\" class=\"sk-top-container\"><div class=\"sk-text-repr-fallback\"><pre>XGBClassifier(base_score=None, booster=None, callbacks=None,\n",
       "              colsample_bylevel=None, colsample_bynode=None,\n",
       "              colsample_bytree=None, device=None, early_stopping_rounds=None,\n",
       "              enable_categorical=False, eval_metric=&#x27;logloss&#x27;,\n",
       "              feature_types=None, gamma=None, grow_policy=None,\n",
       "              importance_type=None, interaction_constraints=None,\n",
       "              learning_rate=None, max_bin=None, max_cat_threshold=None,\n",
       "              max_cat_to_onehot=None, max_delta_step=None, max_depth=3,\n",
       "              max_leaves=None, min_child_weight=None, missing=nan,\n",
       "              monotone_constraints=None, multi_strategy=None, n_estimators=50,\n",
       "              n_jobs=None, num_parallel_tree=None, random_state=None, ...)</pre><b>In a Jupyter environment, please rerun this cell to show the HTML representation or trust the notebook. <br />On GitHub, the HTML representation is unable to render, please try loading this page with nbviewer.org.</b></div><div class=\"sk-container\" hidden><div class=\"sk-item\"><div class=\"sk-estimator sk-toggleable\"><input class=\"sk-toggleable__control sk-hidden--visually\" id=\"sk-estimator-id-1\" type=\"checkbox\" checked><label for=\"sk-estimator-id-1\" class=\"sk-toggleable__label sk-toggleable__label-arrow\">XGBClassifier</label><div class=\"sk-toggleable__content\"><pre>XGBClassifier(base_score=None, booster=None, callbacks=None,\n",
       "              colsample_bylevel=None, colsample_bynode=None,\n",
       "              colsample_bytree=None, device=None, early_stopping_rounds=None,\n",
       "              enable_categorical=False, eval_metric=&#x27;logloss&#x27;,\n",
       "              feature_types=None, gamma=None, grow_policy=None,\n",
       "              importance_type=None, interaction_constraints=None,\n",
       "              learning_rate=None, max_bin=None, max_cat_threshold=None,\n",
       "              max_cat_to_onehot=None, max_delta_step=None, max_depth=3,\n",
       "              max_leaves=None, min_child_weight=None, missing=nan,\n",
       "              monotone_constraints=None, multi_strategy=None, n_estimators=50,\n",
       "              n_jobs=None, num_parallel_tree=None, random_state=None, ...)</pre></div></div></div></div></div>"
      ],
      "text/plain": [
       "XGBClassifier(base_score=None, booster=None, callbacks=None,\n",
       "              colsample_bylevel=None, colsample_bynode=None,\n",
       "              colsample_bytree=None, device=None, early_stopping_rounds=None,\n",
       "              enable_categorical=False, eval_metric='logloss',\n",
       "              feature_types=None, gamma=None, grow_policy=None,\n",
       "              importance_type=None, interaction_constraints=None,\n",
       "              learning_rate=None, max_bin=None, max_cat_threshold=None,\n",
       "              max_cat_to_onehot=None, max_delta_step=None, max_depth=3,\n",
       "              max_leaves=None, min_child_weight=None, missing=nan,\n",
       "              monotone_constraints=None, multi_strategy=None, n_estimators=50,\n",
       "              n_jobs=None, num_parallel_tree=None, random_state=None, ...)"
      ]
     },
     "execution_count": 136,
     "metadata": {},
     "output_type": "execute_result"
    }
   ],
   "source": [
    "model_scores_final"
   ]
  },
  {
   "cell_type": "markdown",
   "metadata": {},
   "source": [
    "## Option 2: Train classifier using optimal hyperparameters\n",
    "The following cell constructs a new XGBoostClassifier object using the best hyperparameters that were found by the grid search."
   ]
  },
  {
   "cell_type": "code",
   "execution_count": 137,
   "metadata": {},
   "outputs": [],
   "source": [
    "model_scores_final = XGBClassifier(\n",
    "    eval_metric='logloss',\n",
    "    use_label_encoder=False,\n",
    "    n_estimators=50,\n",
    "    max_depth=3\n",
    ")"
   ]
  },
  {
   "cell_type": "code",
   "execution_count": 138,
   "metadata": {},
   "outputs": [
    {
     "data": {
      "text/html": [
       "<style>#sk-container-id-2 {color: black;}#sk-container-id-2 pre{padding: 0;}#sk-container-id-2 div.sk-toggleable {background-color: white;}#sk-container-id-2 label.sk-toggleable__label {cursor: pointer;display: block;width: 100%;margin-bottom: 0;padding: 0.3em;box-sizing: border-box;text-align: center;}#sk-container-id-2 label.sk-toggleable__label-arrow:before {content: \"▸\";float: left;margin-right: 0.25em;color: #696969;}#sk-container-id-2 label.sk-toggleable__label-arrow:hover:before {color: black;}#sk-container-id-2 div.sk-estimator:hover label.sk-toggleable__label-arrow:before {color: black;}#sk-container-id-2 div.sk-toggleable__content {max-height: 0;max-width: 0;overflow: hidden;text-align: left;background-color: #f0f8ff;}#sk-container-id-2 div.sk-toggleable__content pre {margin: 0.2em;color: black;border-radius: 0.25em;background-color: #f0f8ff;}#sk-container-id-2 input.sk-toggleable__control:checked~div.sk-toggleable__content {max-height: 200px;max-width: 100%;overflow: auto;}#sk-container-id-2 input.sk-toggleable__control:checked~label.sk-toggleable__label-arrow:before {content: \"▾\";}#sk-container-id-2 div.sk-estimator input.sk-toggleable__control:checked~label.sk-toggleable__label {background-color: #d4ebff;}#sk-container-id-2 div.sk-label input.sk-toggleable__control:checked~label.sk-toggleable__label {background-color: #d4ebff;}#sk-container-id-2 input.sk-hidden--visually {border: 0;clip: rect(1px 1px 1px 1px);clip: rect(1px, 1px, 1px, 1px);height: 1px;margin: -1px;overflow: hidden;padding: 0;position: absolute;width: 1px;}#sk-container-id-2 div.sk-estimator {font-family: monospace;background-color: #f0f8ff;border: 1px dotted black;border-radius: 0.25em;box-sizing: border-box;margin-bottom: 0.5em;}#sk-container-id-2 div.sk-estimator:hover {background-color: #d4ebff;}#sk-container-id-2 div.sk-parallel-item::after {content: \"\";width: 100%;border-bottom: 1px solid gray;flex-grow: 1;}#sk-container-id-2 div.sk-label:hover label.sk-toggleable__label {background-color: #d4ebff;}#sk-container-id-2 div.sk-serial::before {content: \"\";position: absolute;border-left: 1px solid gray;box-sizing: border-box;top: 0;bottom: 0;left: 50%;z-index: 0;}#sk-container-id-2 div.sk-serial {display: flex;flex-direction: column;align-items: center;background-color: white;padding-right: 0.2em;padding-left: 0.2em;position: relative;}#sk-container-id-2 div.sk-item {position: relative;z-index: 1;}#sk-container-id-2 div.sk-parallel {display: flex;align-items: stretch;justify-content: center;background-color: white;position: relative;}#sk-container-id-2 div.sk-item::before, #sk-container-id-2 div.sk-parallel-item::before {content: \"\";position: absolute;border-left: 1px solid gray;box-sizing: border-box;top: 0;bottom: 0;left: 50%;z-index: -1;}#sk-container-id-2 div.sk-parallel-item {display: flex;flex-direction: column;z-index: 1;position: relative;background-color: white;}#sk-container-id-2 div.sk-parallel-item:first-child::after {align-self: flex-end;width: 50%;}#sk-container-id-2 div.sk-parallel-item:last-child::after {align-self: flex-start;width: 50%;}#sk-container-id-2 div.sk-parallel-item:only-child::after {width: 0;}#sk-container-id-2 div.sk-dashed-wrapped {border: 1px dashed gray;margin: 0 0.4em 0.5em 0.4em;box-sizing: border-box;padding-bottom: 0.4em;background-color: white;}#sk-container-id-2 div.sk-label label {font-family: monospace;font-weight: bold;display: inline-block;line-height: 1.2em;}#sk-container-id-2 div.sk-label-container {text-align: center;}#sk-container-id-2 div.sk-container {/* jupyter's `normalize.less` sets `[hidden] { display: none; }` but bootstrap.min.css set `[hidden] { display: none !important; }` so we also need the `!important` here to be able to override the default hidden behavior on the sphinx rendered scikit-learn.org. See: https://github.com/scikit-learn/scikit-learn/issues/21755 */display: inline-block !important;position: relative;}#sk-container-id-2 div.sk-text-repr-fallback {display: none;}</style><div id=\"sk-container-id-2\" class=\"sk-top-container\"><div class=\"sk-text-repr-fallback\"><pre>XGBClassifier(base_score=None, booster=None, callbacks=None,\n",
       "              colsample_bylevel=None, colsample_bynode=None,\n",
       "              colsample_bytree=None, device=None, early_stopping_rounds=None,\n",
       "              enable_categorical=False, eval_metric=&#x27;logloss&#x27;,\n",
       "              feature_types=None, gamma=None, grow_policy=None,\n",
       "              importance_type=None, interaction_constraints=None,\n",
       "              learning_rate=None, max_bin=None, max_cat_threshold=None,\n",
       "              max_cat_to_onehot=None, max_delta_step=None, max_depth=4,\n",
       "              max_leaves=None, min_child_weight=None, missing=nan,\n",
       "              monotone_constraints=None, multi_strategy=None, n_estimators=100,\n",
       "              n_jobs=None, num_parallel_tree=None, random_state=None, ...)</pre><b>In a Jupyter environment, please rerun this cell to show the HTML representation or trust the notebook. <br />On GitHub, the HTML representation is unable to render, please try loading this page with nbviewer.org.</b></div><div class=\"sk-container\" hidden><div class=\"sk-item\"><div class=\"sk-estimator sk-toggleable\"><input class=\"sk-toggleable__control sk-hidden--visually\" id=\"sk-estimator-id-2\" type=\"checkbox\" checked><label for=\"sk-estimator-id-2\" class=\"sk-toggleable__label sk-toggleable__label-arrow\">XGBClassifier</label><div class=\"sk-toggleable__content\"><pre>XGBClassifier(base_score=None, booster=None, callbacks=None,\n",
       "              colsample_bylevel=None, colsample_bynode=None,\n",
       "              colsample_bytree=None, device=None, early_stopping_rounds=None,\n",
       "              enable_categorical=False, eval_metric=&#x27;logloss&#x27;,\n",
       "              feature_types=None, gamma=None, grow_policy=None,\n",
       "              importance_type=None, interaction_constraints=None,\n",
       "              learning_rate=None, max_bin=None, max_cat_threshold=None,\n",
       "              max_cat_to_onehot=None, max_delta_step=None, max_depth=4,\n",
       "              max_leaves=None, min_child_weight=None, missing=nan,\n",
       "              monotone_constraints=None, multi_strategy=None, n_estimators=100,\n",
       "              n_jobs=None, num_parallel_tree=None, random_state=None, ...)</pre></div></div></div></div></div>"
      ],
      "text/plain": [
       "XGBClassifier(base_score=None, booster=None, callbacks=None,\n",
       "              colsample_bylevel=None, colsample_bynode=None,\n",
       "              colsample_bytree=None, device=None, early_stopping_rounds=None,\n",
       "              enable_categorical=False, eval_metric='logloss',\n",
       "              feature_types=None, gamma=None, grow_policy=None,\n",
       "              importance_type=None, interaction_constraints=None,\n",
       "              learning_rate=None, max_bin=None, max_cat_threshold=None,\n",
       "              max_cat_to_onehot=None, max_delta_step=None, max_depth=4,\n",
       "              max_leaves=None, min_child_weight=None, missing=nan,\n",
       "              monotone_constraints=None, multi_strategy=None, n_estimators=100,\n",
       "              n_jobs=None, num_parallel_tree=None, random_state=None, ...)"
      ]
     },
     "execution_count": 138,
     "metadata": {},
     "output_type": "execute_result"
    }
   ],
   "source": [
    "model_scores_final.fit(\n",
    "    X=df_X_train[features],\n",
    "    y=df_y_train[label]\n",
    ")"
   ]
  }
 ],
 "metadata": {
  "kernelspec": {
   "display_name": "socceraction",
   "language": "python",
   "name": "python3"
  },
  "language_info": {
   "codemirror_mode": {
    "name": "ipython",
    "version": 3
   },
   "file_extension": ".py",
   "mimetype": "text/x-python",
   "name": "python",
   "nbconvert_exporter": "python",
   "pygments_lexer": "ipython3",
   "version": "3.10.13"
  }
 },
 "nbformat": 4,
 "nbformat_minor": 2
}
